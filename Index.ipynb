{
 "metadata": {
  "language": "Julia",
  "name": "",
  "signature": "sha256:d8969ac39769c1e2237cd833d56c3208a0692aa10ee9dea7a967693399fc90d7"
 },
 "nbformat": 3,
 "nbformat_minor": 0,
 "worksheets": [
  {
   "cells": [
    {
     "cell_type": "heading",
     "level": 1,
     "metadata": {},
     "source": [
      "Outline"
     ]
    },
    {
     "cell_type": "markdown",
     "metadata": {},
     "source": [
      "We will (attempt to) cover the following topics:"
     ]
    },
    {
     "cell_type": "markdown",
     "metadata": {},
     "source": [
      "- [Why Julia?](Why Julia.ipynb) (presentation)\n",
      "- [Example: Fractals](fractal_example/fractals.ipynb)\n",
      "- [Basic Julia syntax](Introduction to Julia.ipynb)\n",
      "- [Graphics and packages](Graphics and packages in Julia.ipynb)\n",
      "- [Defining a new type](Example of defining a new type.ipynb)\n",
      "- [Performance in Julia](Performance in Julia.ipynb)\n",
      "- [Metaprogramming](Metaprogramming.ipynb)\n",
      "- [Interoperability with Python and C](Interoperability with Python and C.ipynb)\n",
      "- [Where to go next](What's next.ipynb)"
     ]
    }
   ],
   "metadata": {}
  }
 ]
}